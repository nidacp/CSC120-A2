{
  "nbformat": 4,
  "nbformat_minor": 0,
  "metadata": {
    "colab": {
      "provenance": [],
      "authorship_tag": "ABX9TyOo/J64MLZ2JPjDNgc7s21/",
      "include_colab_link": true
    },
    "kernelspec": {
      "name": "python3",
      "display_name": "Python 3"
    },
    "language_info": {
      "name": "python"
    }
  },
  "cells": [
    {
      "cell_type": "markdown",
      "metadata": {
        "id": "view-in-github",
        "colab_type": "text"
      },
      "source": [
        "<a href=\"https://colab.research.google.com/github/nidacp/CSC120-A2/blob/master/hw01.ipynb\" target=\"_parent\"><img src=\"https://colab.research.google.com/assets/colab-badge.svg\" alt=\"Open In Colab\"/></a>"
      ]
    },
    {
      "cell_type": "code",
      "source": [
        "'''\n",
        "Name: Nida Chacar-Palubinskas\n",
        "\n",
        "Sources:\n",
        "    https://www.geeksforgeeks.org/linear-regression-python-implementation/#\n",
        "    https://www.geeksforgeeks.org/how-to-calculate-confidence-intervals-in-python/#\n",
        "    https://www.geeksforgeeks.org/confidence-and-prediction-intervals-with-statsmodels/\n",
        "\n",
        "Coding partners/TAs: n/a\n",
        "\n",
        "Please let me know if the header or sources should be formatted differently! I couldn't spot a preferred format on the instructions.\n",
        "'''"
      ],
      "metadata": {
        "id": "4fxOQP3WqGoT"
      },
      "execution_count": null,
      "outputs": []
    },
    {
      "cell_type": "code",
      "source": [
        "import pandas as pd\n",
        "import numpy as np\n",
        "import matplotlib.pyplot as plt\n",
        "\n",
        "from google.colab import drive\n",
        "drive.mount('/content/drive')"
      ],
      "metadata": {
        "colab": {
          "base_uri": "https://localhost:8080/"
        },
        "id": "3bB-3Yg86r2m",
        "outputId": "d4818e68-a589-42b9-d871-00edbea3b283"
      },
      "execution_count": null,
      "outputs": [
        {
          "output_type": "stream",
          "name": "stdout",
          "text": [
            "Mounted at /content/drive\n"
          ]
        }
      ]
    },
    {
      "cell_type": "code",
      "source": [
        "def part1():\n",
        "\n",
        "  df = pd.read_csv(\"/content/drive/MyDrive/candy-data.csv\")\n",
        "\n",
        "  choc_error = (df[\"chocolate\"] != df[\"chocolate-prediction\"]).mean() #finds the percent of times actual != predicted\n",
        "  win_error = (df[\"winpercent\"] - df[\"win-prediction\"]).abs().mean() #same concept, but this can be negative so we need the absolute value\n",
        "\n",
        "  print(\"Chocolate error rate: \", choc_error)\n",
        "  print(\"Win error rate: \", win_error)"
      ],
      "metadata": {
        "id": "-zMegfHb6tf3"
      },
      "execution_count": null,
      "outputs": []
    },
    {
      "cell_type": "code",
      "source": [
        "part1()"
      ],
      "metadata": {
        "id": "rLZJLTy371Cv",
        "colab": {
          "base_uri": "https://localhost:8080/"
        },
        "outputId": "3ca49d03-03fb-44e8-fe11-161f9cc089cb"
      },
      "execution_count": null,
      "outputs": [
        {
          "output_type": "stream",
          "name": "stdout",
          "text": [
            "Chocolate error rate:  0.5176470588235295\n",
            "Win error rate:  49.853749694117646\n"
          ]
        }
      ]
    },
    {
      "cell_type": "code",
      "source": [
        "df2 = pd.read_csv(\"/content/drive/MyDrive/auto-mpg.csv\")\n",
        "df2 = df2.dropna()"
      ],
      "metadata": {
        "id": "T-_ZEURCxiHn"
      },
      "execution_count": null,
      "outputs": []
    },
    {
      "cell_type": "code",
      "source": [
        "def part2():\n",
        "    #mpg as the response and horsepower as the predictor\n",
        "    df2[\"horsepower\"] = pd.to_numeric(df2[\"horsepower\"], errors='coerce')  #cleaning up to not get errors about horsepower values being strings\n",
        "\n",
        "\n",
        "    n = np.size(df2[\"horsepower\"])\n",
        "\n",
        "    x_mean =  np.mean(df2[\"horsepower\"])\n",
        "    y_mean = np.mean(df2[\"mpg\"])\n",
        "\n",
        "    xy = np.sum(df2[\"horsepower\"] * df2[\"mpg\"]) - n*y_mean*x_mean\n",
        "    xx = np.sum(df2[\"horsepower\"] * df2[\"horsepower\"]) - n*x_mean*x_mean\n",
        "\n",
        "    b_1 = xy/xx\n",
        "    b_0 = y_mean - b_1*x_mean\n",
        "\n",
        "    print(\"b_0 is \", b_0, \" and b_1 is \", b_1)\n",
        "\n",
        "    plotting(b_0, b_1)"
      ],
      "metadata": {
        "id": "SojG9hGK6tzs"
      },
      "execution_count": null,
      "outputs": []
    },
    {
      "cell_type": "code",
      "source": [
        "from plotnine import ggplot, aes, geom_point, geom_smooth\n",
        "import plotnine as p9\n",
        "import scipy.stats as st\n",
        "\n",
        "def plotting(b_0, b_1):\n",
        "  plt.scatter(df2[\"horsepower\"], df2[\"mpg\"])\n",
        "\n",
        "  y_pred = b_0 + b_1*df2[\"horsepower\"]\n",
        "\n",
        "  plt.plot(df2[\"horsepower\"], y_pred, color = \"red\")\n",
        "\n",
        "  plt.show()"
      ],
      "metadata": {
        "id": "FN_UQncAwfb8"
      },
      "execution_count": null,
      "outputs": []
    },
    {
      "cell_type": "code",
      "source": [
        "part2()"
      ],
      "metadata": {
        "colab": {
          "base_uri": "https://localhost:8080/",
          "height": 448
        },
        "id": "fdX9zjT68bUF",
        "outputId": "b54f5c6c-0a2b-402a-e6b3-e82c10c053d3"
      },
      "execution_count": null,
      "outputs": [
        {
          "output_type": "stream",
          "name": "stdout",
          "text": [
            "b_0 is  45.674582741151056  and b_1 is  -0.21211964914331757\n"
          ]
        },
        {
          "output_type": "display_data",
          "data": {
            "text/plain": [
              "<Figure size 640x480 with 1 Axes>"
            ],
            "image/png": "[encoded data removed]"
          },
          "metadata": {}
        }
      ]
    },
    {
      "cell_type": "code",
      "source": [
        "from scipy import stats\n",
        "\n",
        "def calc_confidence(data, conf=0.95):\n",
        "  mean = np.mean(data)\n",
        "  se = stats.sem(data)\n",
        "  freedom = len(data) - 1\n",
        "  t_crit = stats.t.ppf((1 + conf) / 2, freedom)\n",
        "  me = t_crit * se\n",
        "  conf_int = (mean - me, mean + me)\n",
        "\n",
        "  return conf_int"
      ],
      "metadata": {
        "id": "3kthMcFzYaqh"
      },
      "execution_count": null,
      "outputs": []
    },
    {
      "cell_type": "code",
      "source": [
        "def calc_prediction(data, conf=0.95):\n",
        "  mean = np.mean(data)\n",
        "  s = np.std(data, ddof=1)\n",
        "  freedom = len(data) - 1\n",
        "  t_crit = stats.t.ppf((1 + conf) / 2, freedom)\n",
        "  me = t_crit * s * np.sqrt(1 + 1/len(data))\n",
        "  pred_int = (mean - me, mean + me)\n",
        "  return pred_int"
      ],
      "metadata": {
        "id": "OVQCNUFUnUzT"
      },
      "execution_count": null,
      "outputs": []
    },
    {
      "cell_type": "code",
      "source": [
        "print(calc_confidence(df2[\"mpg\"]))\n",
        "print(calc_prediction(df2[\"mpg\"]))"
      ],
      "metadata": {
        "colab": {
          "base_uri": "https://localhost:8080/"
        },
        "id": "I07QY_UyYhZn",
        "outputId": "96b04daa-81ad-4611-c5ab-d7cb335bf905"
      },
      "execution_count": null,
      "outputs": [
        {
          "output_type": "stream",
          "name": "stdout",
          "text": [
            "mean:  23.514572864321607  me:  0.770222590265507\n",
            "(22.7443502740561, 24.284795454587115)\n",
            "(8.129388673563033, 38.89975705508018)\n"
          ]
        }
      ]
    }
  ]
}